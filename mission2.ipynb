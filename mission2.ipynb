{
 "cells": [
  {
   "cell_type": "code",
   "execution_count": 1,
   "id": "5e0c4332",
   "metadata": {},
   "outputs": [
    {
     "name": "stdout",
     "output_type": "stream",
     "text": [
      "이름을 입력해주세요: ㄴㅇㅁ\n",
      "성별을 입력해주세요 (male OR female): male\n",
      "나이를 숫자로 입력해주세요: 12\n",
      "이름: ㄴㅇㅁ, 성별: male, \n",
      "나이: 12\n",
      "안녕하세요!name님 미성년자군요!!\n"
     ]
    }
   ],
   "source": [
    "#4차 시도까지 해보고 너무 감이 안잡혀서 GPT에게 코드에서 잘못 된 부분을 찾아 달라해서 수정했다.\n",
    "#whlie 오타 => while\n",
    "#input(int('나이를 숫자로 입력해주세요')) => int(input( '나이를 숫자로 입력해주세요' ))\n",
    "#person1 = person({self.name}, {self.gender}, {self.age}): => person1 = person(name, gender, age)                     \n",
    "#{}는 문자열 포맷팅을 의미하지만, 여기서는 필요 없다. 단순히 변수만 넘기면 된다.                                         \n",
    "#self는 인스턴스 메서드에서만 사용하며, 객체 생성 시에는 사용하면 않된다.\n",
    "#while조건문으로 객체 조건 걸기\n",
    "\n",
    "class Person:  # 클래스 이름은 관례상 첫 글자를 대문자로 시작합니다.\n",
    "    def __init__(self, name, gender, age):  # 초기화 메서드\n",
    "        self.name = name  # 속성 정의\n",
    "        self.gender = gender\n",
    "        self.age = age\n",
    "        \n",
    "    def display(self):  # 정보 출력 함수\n",
    "        print(f\"\"\"이름: {self.name}, 성별: {self.gender}, \n",
    "나이: {self.age}\"\"\")   \n",
    "        \n",
    "    def greet(self): #조건식에 따라 성인 미성년자를 구분해서 인사하는 함수 추가\n",
    "        if age >= 20:\n",
    "            print(\"안녕하세요!name님 성인이군요!!\")\n",
    "        else:\n",
    "            print(\"안녕하세요!name님 미성년자군요!!\")\n",
    "    \n",
    "# 사용자 입력\n",
    "name = input('이름을 입력해주세요: ')\n",
    "while True:\n",
    "    gender = input('성별을 입력해주세요 (male OR female): ').strip().lower()  # 소문자로 변환하여 비교를 용이하게 함\n",
    "    if gender == 'male' or gender == 'female':  # gender 조건\n",
    "        break\n",
    "    else:\n",
    "        print('male과 female 중 하나만 입력해주세요.')\n",
    "\n",
    "while True:\n",
    "    try:\n",
    "        age = int(input('나이를 숫자로 입력해주세요: '))  # 나이 입력을 숫자로 받음\n",
    "        if age > 0:  # age 조건\n",
    "            break\n",
    "        \n",
    "        else:\n",
    "            print('0보다 큰 숫자만 입력해 주세요.')\n",
    "    except ValueError:\n",
    "        print('유효한 숫자를 입력해주세요.')  # 숫자가 아닌 값을 입력했을 때 예외 처리\n",
    "        \n",
    " \n",
    "\n",
    "\n",
    "person1 = Person(name, gender, age)\n",
    "\n",
    " \n",
    "\n",
    "person1.display()\n",
    "person1.greet()\n",
    "#마지막에 person1.display(), person1.greet() 각각 호출해서 함수를 작동 시켜야하는데 한번에 작동 시키는 방법이있을까?"
   ]
  },
  {
   "cell_type": "code",
   "execution_count": null,
   "id": "23b22cc4",
   "metadata": {},
   "outputs": [],
   "source": []
  }
 ],
 "metadata": {
  "kernelspec": {
   "display_name": "Python 3 (ipykernel)",
   "language": "python",
   "name": "python3"
  },
  "language_info": {
   "codemirror_mode": {
    "name": "ipython",
    "version": 3
   },
   "file_extension": ".py",
   "mimetype": "text/x-python",
   "name": "python",
   "nbconvert_exporter": "python",
   "pygments_lexer": "ipython3",
   "version": "3.12.7"
  }
 },
 "nbformat": 4,
 "nbformat_minor": 5
}
