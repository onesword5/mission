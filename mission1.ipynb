{
 "cells": [
  {
   "cell_type": "code",
   "execution_count": 2,
   "id": "af2dcad3",
   "metadata": {},
   "outputs": [],
   "source": [
    "import random #랜덤 패키지 가져오기"
   ]
  },
  {
   "cell_type": "code",
   "execution_count": 3,
   "id": "a061ae3d",
   "metadata": {},
   "outputs": [
    {
     "name": "stdout",
     "output_type": "stream",
     "text": [
      "1과 10 사이의 숫자를 하나 정했습니다.\n",
      "이 숫자는 무엇일까요?\n"
     ]
    },
    {
     "name": "stdin",
     "output_type": "stream",
     "text": [
      "숫자를 입력하세요. 10\n"
     ]
    },
    {
     "name": "stdout",
     "output_type": "stream",
     "text": [
      "너무 큽니다. 다시입력하세요.\n"
     ]
    },
    {
     "name": "stdin",
     "output_type": "stream",
     "text": [
      "숫자를 입력하세요. 15\n"
     ]
    },
    {
     "name": "stdout",
     "output_type": "stream",
     "text": [
      "숫자가 너무 큽니다. 10 이하의 숫자만 입력해주세요.\n"
     ]
    },
    {
     "name": "stdin",
     "output_type": "stream",
     "text": [
      "숫자를 입력하세요. 9\n"
     ]
    },
    {
     "name": "stdout",
     "output_type": "stream",
     "text": [
      "정답입니다.\n"
     ]
    },
    {
     "name": "stdin",
     "output_type": "stream",
     "text": [
      "다시 시작하겟습니까? (y/n) y\n"
     ]
    },
    {
     "name": "stdout",
     "output_type": "stream",
     "text": [
      "1과 10 사이의 숫자를 하나 정했습니다.\n",
      "이 숫자는 무엇일까요?\n"
     ]
    },
    {
     "name": "stdin",
     "output_type": "stream",
     "text": [
      "숫자를 입력하세요. 3\n"
     ]
    },
    {
     "name": "stdout",
     "output_type": "stream",
     "text": [
      "너무 작습니다. 다시입력하세요.\n"
     ]
    },
    {
     "name": "stdin",
     "output_type": "stream",
     "text": [
      "숫자를 입력하세요. 6\n"
     ]
    },
    {
     "name": "stdout",
     "output_type": "stream",
     "text": [
      "너무 작습니다. 다시입력하세요.\n"
     ]
    },
    {
     "name": "stdin",
     "output_type": "stream",
     "text": [
      "숫자를 입력하세요. 8\n"
     ]
    },
    {
     "name": "stdout",
     "output_type": "stream",
     "text": [
      "정답입니다.\n"
     ]
    },
    {
     "name": "stdin",
     "output_type": "stream",
     "text": [
      "다시 시작하겟습니까? (y/n) n\n"
     ]
    },
    {
     "name": "stdout",
     "output_type": "stream",
     "text": [
      "게임이 끝났습니다.\n"
     ]
    }
   ],
   "source": [
    "#4차 시도 들여쓰기 확인 하다가 전체에 반복 조건을 안준 것을 확인\n",
    "while True: #전체 반복 조건문 시작\n",
    "    computer_num = random.randint(1,10) #1에서10사이의 숫자를 랜덤으로 가져오게 지정\n",
    "    print('''1과 10 사이의 숫자를 하나 정했습니다.\n",
    "이 숫자는 무엇일까요?''')  #위 메서드가 작용 했을 때 출력 되는 문장 작성\n",
    "\n",
    "\n",
    "\n",
    "    while True:#조건이 참일 때까지 반복 설정\n",
    "        user_num = int(input('숫자를 입력하세요.'))\n",
    "        #사용자가 직접 숫자를 입력하고 정수로 바꿔주게 설정\n",
    "    \n",
    "        if user_num > 10: #입력 값이 10보다 클 때 작동\n",
    "            print(f'숫자가 너무 큽니다. 10 이하의 숫자만 입력해주세요.') #위 조건이 충족 되었을 때 출력 되는 메세지 작성\n",
    "    \n",
    "        elif computer_num == user_num:#랜덤 숫자와 사용자 숫자가 동일할 때 작동 설정\n",
    "            print(f'정답입니다.') #동일 시 출력 되는 메시지 설정       \n",
    "            break  #위 조건이 작동 시 반복을 멈추게 설정\n",
    "    \n",
    "\n",
    "        elif user_num < computer_num: #사용자 입력 숫자가 컴퓨터 보다 적을때 작동 설정\n",
    "            print(\"너무 작습니다. 다시입력하세요.\")#위 조건이 작동 시 출력 되는 메시지 작성\n",
    "\n",
    "        else:#위 조건이 거짓일 때 작동 설정\n",
    "            print(\"너무 큽니다. 다시입력하세요.\") #else 조건이 작동 시 출력 되는 메시지 작성 \n",
    "    \n",
    "\n",
    "    \n",
    "    restart = input('다시 시작하겟습니까? (y/n)') #다시 시작여부 입력 받는 restart 생성\n",
    "\n",
    "    if restart != 'y': #y가 아닐 때 작동\n",
    "        print('게임이 끝났습니다.')  #위 조건에 맞으면 출력 되는 메세지       \n",
    " \n",
    "    \n",
    "        break #조건 충족 시 멈춤\n",
    "    "
   ]
  },
  {
   "cell_type": "code",
   "execution_count": null,
   "id": "d5042908",
   "metadata": {},
   "outputs": [],
   "source": []
  }
 ],
 "metadata": {
  "kernelspec": {
   "display_name": "Python 3 (ipykernel)",
   "language": "python",
   "name": "python3"
  },
  "language_info": {
   "codemirror_mode": {
    "name": "ipython",
    "version": 3
   },
   "file_extension": ".py",
   "mimetype": "text/x-python",
   "name": "python",
   "nbconvert_exporter": "python",
   "pygments_lexer": "ipython3",
   "version": "3.12.7"
  }
 },
 "nbformat": 4,
 "nbformat_minor": 5
}
